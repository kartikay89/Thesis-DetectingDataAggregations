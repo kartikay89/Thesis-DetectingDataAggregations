{
 "cells": [
  {
   "cell_type": "code",
   "execution_count": 1,
   "metadata": {},
   "outputs": [
    {
     "name": "stdout",
     "output_type": "stream",
     "text": [
      "\n",
      " [[None, None, None, None, None, None, None, None, None, None, None, None, None, None, None, None, None, None, None], [None, None, None, None, None, None, None, None, None, None, None, None, None, None, None, None, None, None, None], [None, None, None, None, None, None, None, None, None, None, None, None, None, None, None, None, None, None, None], [None, None, 221, 222, 223, 224, 23, 241, 242, 25, 261, 262, 271, 272, 28, 291, 292, 293, None], [None, None, None, None, None, None, None, None, None, None, None, None, None, None, None, None, None, None, None], [1, None, 20, 0, 159, 40, 50, 262, 187, 1, 4083, 21, 0, 1204, 495, 15, 15, 679, 7230], [2, None, 1, 1, 498, 11, 14, 19, 358, 0, 0, None, None, 329, None, None, 3, None, 1234], [3, None, 3, 13, 0, 3, 13, 10, 1153, 2, 0, None, None, 248, None, 2, 25, 0, 1471], [4, None, 2, 53, 169, 7, 10, 568, 43, 0, 1, None, 580, 170, 154, 65, 0, None, 1822], [5, None, 15, 23, 1, 43, 70, 1331, 19, 2, 1, None, 85, 572, 2, 0, 10, 0, 2174], [6, None, 26, 0, 77, 150, 35, 11, 9, 7, 0, None, None, 120, 102, 5590, 18, 37, 6182], [7, None, 356, 85, 545, 2666, 89, 159, 227, 6, 21, None, None, 940, 2, 24, 63, 75, 5257], [8, None, 5, 6, 10, 5, 159, 24, 76, 4, 1, None, None, 209, 3, 22, 651, 1098, 2272], [9, None, 54, 1, 62, 86, 316, 11, 9, 1, 0, 0, 0, 161, 2, 3730, 50, 333, 4815], [10, None, 30, 13, 70, 140, 840, 39, 29, 28, 9, None, None, 290, None, 26, 2, 10, 1525], [11, None, 31, 6, 7, 11, 248, 51, 106, 3, 1, 1, None, 246, 1, 9, 4, 214, 939], [12, None, 7, 2, 9, 68, 79, 82, 27, 14, 1, None, None, 219, 0, 1, 6, 0, 515], [13, None, 34, 17, 14, 35, 736, 49, 98, 18, 3, None, None, 317, 0, 115, 10, 29, 1475], [14, None, 1, 1, 0, 2, 69, 38, 186, 3, 1, None, None, 366, None, 1, 0, 6, 675], [None, None, 583, 221, 1621, 3267, 2727, 2656, 2526, 88, 4121, 22, 665, 5392, 761, 9598, 859, 2482, 37587], [None, None, None, None, None, None, None, None, None, None, None, None, None, None, None, None, None, None, None], [None, None, None, None, None, None, None, None, None, None, None, None, None, None, None, None, None, None, None], [None, None, None, None, None, None, None, None, None, None, None, None, None, None, None, None, None, None, None], [16, None, 284, 5, 9, 82, 376, 3642, 1454, 148, 1647, 19, None, 4852, 74, 34, 125, 1, 12753], [17, None, 0, 0, None, 58, 5, 167, 722, 1, 153, None, None, 2222, None, None, 23, None, 3352], [18, None, 216, 9, 20, 93, 90, 328, 154, 35, 82, None, None, 1071, 40, None, 35, 9, 2182], [19, None, 6, 1, 3, 415, 77, 1183, 299, 61, 39, 45, None, 4438, 25, 50, 420, 87, 7150], [20, None, 37, 1, 4, 351, 36, 201, 9, 6, 29, 5, None, 800, 3, 7, 55, 9, 1554], [21, None, 2, 0, None, 207, 8, 291, 7, 7, 10, 15, None, 785, None, 1, 40, 16, 1390], [22, None, 0, 0, 0, 137, 12, 163, 30, 3, 107, 0, None, 1401, 11, None, 74, 0, 1939], [None, None, 546, 16, 36, 1343, 604, 5976, 2675, 262, 2067, 84, 0, 15569, 154, 92, 772, 123, 30320], [None, None, None, None, None, None, None, None, None, None, None, None, None, None, None, None, None, None, None], [None, None, 1130, 237, 1657, 4610, 3330, 8631, 5201, 350, 6189, 106, 665, 20960, 915, 9690, 1631, 2605, 67907], [None, None, None, None, None, None, None, None, None, None, None, None, None, None, None, None, None, None, None], [None, None, None, None, None, None, None, None, None, None, None, None, None, None, None, None, None, None, None], [None, None, None, None, None, None, None, None, None, None, None, None, None, None, None, None, None, None, None], [None, None, None, None, None, None, None, None, None, None, None, None, None, None, None, None, None, None, None], [None, None, None, None, None, None, None, None, None, None, None, None, None, None, None, None, None, None, None], [None, None, None, None, None, None, None, None, None, None, None, None, None, None, None, None, None, None, None]]\n",
      "\n",
      " [[None, None, None, None, None, None, None, None, None, None, None, None, None, None, None, None, None, None, None], [None, None, None, None, None, None, None, None, None, None, None, None, None, None, None, None, None, None, None], [None, None, None, None, None, None, None, None, None, None, None, None, None, None, None, None, None, None, None], [None, None, 221, 222, 223, 224, 23, 241, 242, 25, 261, 262, 271, 272, 28, 291, 292, 293, None], [None, None, None, None, None, None, None, None, None, None, None, None, None, None, None, None, None, None, None], [1, None, 20, 0, 159, 40, 50, 262, 187, 1, 4083, 21, 0, 1204, 495, 15, 15, 679, 7230], [2, None, 1, 1, 498, 11, 14, 19, 358, 0, 0, None, None, 329, None, None, 3, None, 1234], [3, None, 3, 13, 0, 3, 13, 10, 1153, 2, 0, None, None, 248, None, 2, 25, 0, 1471], [4, None, 2, 53, 169, 7, 10, 568, 43, 0, 1, None, 580, 170, 154, 65, 0, None, 1822], [5, None, 15, 23, 1, 43, 70, 1331, 19, 2, 1, None, 85, 572, 2, 0, 10, 0, 2174], [6, None, 26, 0, 77, 150, 35, 11, 9, 7, 0, None, None, 120, 102, 5590, 18, 37, 6182], [7, None, 356, 85, 545, 2666, 89, 159, 227, 6, 21, None, None, 940, 2, 24, 63, 75, 5257], [8, None, 5, 6, 10, 5, 159, 24, 76, 4, 1, None, None, 209, 3, 22, 651, 1098, 2272], [9, None, 54, 1, 62, 86, 316, 11, 9, 1, 0, 0, 0, 161, 2, 3730, 50, 333, 4815], [10, None, 30, 13, 70, 140, 840, 39, 29, 28, 9, None, None, 290, None, 26, 2, 10, 1525], [11, None, 31, 6, 7, 11, 248, 51, 106, 3, 1, 1, None, 246, 1, 9, 4, 214, 939], [12, None, 7, 2, 9, 68, 79, 82, 27, 14, 1, None, None, 219, 0, 1, 6, 0, 515], [13, None, 34, 17, 14, 35, 736, 49, 98, 18, 3, None, None, 317, 0, 115, 10, 29, 1475], [14, None, 1, 1, 0, 2, 69, 38, 186, 3, 1, None, None, 366, None, 1, 0, 6, 675], [None, None, 583, 221, 1621, 3267, 2727, 2656, 2526, 88, 4121, 22, 665, 5392, 761, 9598, 859, 2482, 37587], [None, None, None, None, None, None, None, None, None, None, None, None, None, None, None, None, None, None, None], [None, None, None, None, None, None, None, None, None, None, None, None, None, None, None, None, None, None, None], [None, None, None, None, None, None, None, None, None, None, None, None, None, None, None, None, None, None, None], [16, None, 284, 5, 9, 82, 376, 3642, 1454, 148, 1647, 19, None, 4852, 74, 34, 125, 1, 12753], [17, None, 0, 0, None, 58, 5, 167, 722, 1, 153, None, None, 2222, None, None, 23, None, 3352], [18, None, 216, 9, 20, 93, 90, 328, 154, 35, 82, None, None, 1071, 40, None, 35, 9, 2182], [19, None, 6, 1, 3, 415, 77, 1183, 299, 61, 39, 45, None, 4438, 25, 50, 420, 87, 7150], [20, None, 37, 1, 4, 351, 36, 201, 9, 6, 29, 5, None, 800, 3, 7, 55, 9, 1554], [21, None, 2, 0, None, 207, 8, 291, 7, 7, 10, 15, None, 785, None, 1, 40, 16, 1390], [22, None, 0, 0, 0, 137, 12, 163, 30, 3, 107, 0, None, 1401, 11, None, 74, 0, 1939]]\n"
     ]
    }
   ],
   "source": [
    "from Heuristic2 import *"
   ]
  },
  {
   "cell_type": "code",
   "execution_count": 4,
   "metadata": {
    "scrolled": true
   },
   "outputs": [
    {
     "name": "stdout",
     "output_type": "stream",
     "text": [
      "\n",
      " []\n",
      "\n",
      " []\n",
      "\n",
      " []\n",
      "\n",
      " [2, 3, 4, 5, 6, 7, 8, 9, 10, 11, 12, 13, 14, 15, 16, 17]\n",
      "\n",
      " []\n",
      "\n",
      " [0, 2, 3, 4, 5, 6, 7, 8, 9, 10, 11, 12, 13, 14, 15, 16, 17, 18]\n",
      "\n",
      " [0, 2, 3, 4, 5, 6, 7, 8, 9, 10, 13, 16, 18]\n",
      "\n",
      " [0, 2, 3, 4, 5, 6, 7, 8, 9, 10, 13, 15, 16, 17, 18]\n",
      "\n",
      " [0, 2, 3, 4, 5, 6, 7, 8, 9, 10, 12, 13, 14, 15, 16, 18]\n",
      "\n",
      " [0, 2, 3, 4, 5, 6, 7, 8, 9, 10, 12, 13, 14, 15, 16, 17, 18]\n",
      "\n",
      " [0, 2, 3, 4, 5, 6, 7, 8, 9, 10, 13, 14, 15, 16, 17, 18]\n",
      "\n",
      " [0, 2, 3, 4, 5, 6, 7, 8, 9, 10, 13, 14, 15, 16, 17, 18]\n",
      "\n",
      " [0, 2, 3, 4, 5, 6, 7, 8, 9, 10, 13, 14, 15, 16, 17, 18]\n",
      "\n",
      " [0, 2, 3, 4, 5, 6, 7, 8, 9, 10, 11, 12, 13, 14, 15, 16, 17, 18]\n",
      "\n",
      " [0, 2, 3, 4, 5, 6, 7, 8, 9, 10, 13, 15, 16, 17, 18]\n",
      "\n",
      " [0, 2, 3, 4, 5, 6, 7, 8, 9, 10, 11, 13, 14, 15, 16, 17, 18]\n",
      "\n",
      " [0, 2, 3, 4, 5, 6, 7, 8, 9, 10, 13, 14, 15, 16, 17, 18]\n",
      "\n",
      " [0, 2, 3, 4, 5, 6, 7, 8, 9, 10, 13, 14, 15, 16, 17, 18]\n",
      "\n",
      " [0, 2, 3, 4, 5, 6, 7, 8, 9, 10, 13, 15, 16, 17, 18]\n",
      "\n",
      " [2, 3, 4, 5, 6, 7, 8, 9, 10, 11, 12, 13, 14, 15, 16, 17, 18]\n",
      "\n",
      " []\n",
      "\n",
      " []\n",
      "\n",
      " []\n",
      "\n",
      " [0, 2, 3, 4, 5, 6, 7, 8, 9, 10, 11, 13, 14, 15, 16, 17, 18]\n",
      "\n",
      " [0, 2, 3, 5, 6, 7, 8, 9, 10, 13, 16, 18]\n",
      "\n",
      " [0, 2, 3, 4, 5, 6, 7, 8, 9, 10, 13, 14, 16, 17, 18]\n",
      "\n",
      " [0, 2, 3, 4, 5, 6, 7, 8, 9, 10, 11, 13, 14, 15, 16, 17, 18]\n",
      "\n",
      " [0, 2, 3, 4, 5, 6, 7, 8, 9, 10, 11, 13, 14, 15, 16, 17, 18]\n",
      "\n",
      " [0, 2, 3, 5, 6, 7, 8, 9, 10, 11, 13, 15, 16, 17, 18]\n",
      "\n",
      " [0, 2, 3, 4, 5, 6, 7, 8, 9, 10, 11, 13, 14, 16, 17, 18]\n",
      "\n",
      " [2, 3, 4, 5, 6, 7, 8, 9, 10, 11, 12, 13, 14, 15, 16, 17, 18]\n",
      "\n",
      " []\n",
      "\n",
      " [2, 3, 4, 5, 6, 7, 8, 9, 10, 11, 12, 13, 14, 15, 16, 17, 18]\n",
      "\n",
      " []\n",
      "\n",
      " []\n",
      "\n",
      " []\n",
      "\n",
      " []\n",
      "\n",
      " []\n",
      "\n",
      " []\n"
     ]
    },
    {
     "ename": "TypeError",
     "evalue": "unhashable type: 'slice'",
     "output_type": "error",
     "traceback": [
      "\u001b[0;31m---------------------------------------------------------------------------\u001b[0m",
      "\u001b[0;31mTypeError\u001b[0m                                 Traceback (most recent call last)",
      "\u001b[0;32m<ipython-input-4-8a7e6cfff5ff>\u001b[0m in \u001b[0;36m<module>\u001b[0;34m\u001b[0m\n\u001b[1;32m     25\u001b[0m                     \u001b[0msumsDict\u001b[0m\u001b[0;34m[\u001b[0m\u001b[0msubsetSum\u001b[0m\u001b[0;34m]\u001b[0m\u001b[0;34m.\u001b[0m\u001b[0madd\u001b[0m\u001b[0;34m(\u001b[0m\u001b[0mcolumnsMatch\u001b[0m\u001b[0;34m)\u001b[0m\u001b[0;34m\u001b[0m\u001b[0;34m\u001b[0m\u001b[0m\n\u001b[1;32m     26\u001b[0m \u001b[0;34m\u001b[0m\u001b[0m\n\u001b[0;32m---> 27\u001b[0;31m \u001b[0mprint\u001b[0m\u001b[0;34m(\u001b[0m\u001b[0;34m\"\\n\"\u001b[0m\u001b[0;34m,\u001b[0m \u001b[0msubsetSumDict\u001b[0m\u001b[0;34m[\u001b[0m\u001b[0;34m:\u001b[0m\u001b[0;36m100\u001b[0m\u001b[0;34m]\u001b[0m\u001b[0;34m)\u001b[0m\u001b[0;34m\u001b[0m\u001b[0;34m\u001b[0m\u001b[0m\n\u001b[0m\u001b[1;32m     28\u001b[0m \u001b[0mprint\u001b[0m\u001b[0;34m(\u001b[0m\u001b[0;34m\"\\n\"\u001b[0m\u001b[0;34m,\u001b[0m \u001b[0msumsDict\u001b[0m\u001b[0;34m[\u001b[0m\u001b[0;34m:\u001b[0m\u001b[0;36m100\u001b[0m\u001b[0;34m]\u001b[0m\u001b[0;34m)\u001b[0m\u001b[0;34m\u001b[0m\u001b[0;34m\u001b[0m\u001b[0m\n",
      "\u001b[0;31mTypeError\u001b[0m: unhashable type: 'slice'"
     ]
    }
   ],
   "source": [
    "subsetSumDict = {}\n",
    "sumsDict = {}\n",
    "\n",
    "for rownr, row in enumerate(filteredList):\n",
    "    notNoneCells = [cellnr for cellnr, cell in enumerate(row) if cell != None]\n",
    "    print(\"\\n\",notNoneCells)\n",
    "    for colSubsets in subsets(notNoneCells):\n",
    "        if len(colSubsets) < 2:\n",
    "            continue\n",
    "        else:\n",
    "            subsetSum = product(row[cellnr] for cellnr in colSubsets)\n",
    "            if subsetSum in lookupDict:\n",
    "                colSet = lookupDict[subsetSum]\n",
    "\n",
    "                for rownr1, colnr1 in colSet:\n",
    "                    rowMatch = (rownr, rownr1)\n",
    "                    columnsMatch = (colSubsets, colnr1)\n",
    "\n",
    "                    if columnsMatch not in subsetSumDict:\n",
    "                        subsetSumDict[columnsMatch] = set()\n",
    "                    subsetSumDict[columnsMatch].add(rowMatch)\n",
    "\n",
    "                    if subsetSum not in sumsDict:\n",
    "                        sumsDict[subsetSum]=set()\n",
    "                    sumsDict[subsetSum].add(columnsMatch)\n",
    "\n",
    "print(\"\\n\", subsetSumDict.items()[:100])\n",
    "print(\"\\n\", sumsDict.items()[:100])"
   ]
  },
  {
   "cell_type": "code",
   "execution_count": null,
   "metadata": {},
   "outputs": [],
   "source": []
  }
 ],
 "metadata": {
  "kernelspec": {
   "display_name": "Python 3",
   "language": "python",
   "name": "python3"
  },
  "language_info": {
   "codemirror_mode": {
    "name": "ipython",
    "version": 3
   },
   "file_extension": ".py",
   "mimetype": "text/x-python",
   "name": "python",
   "nbconvert_exporter": "python",
   "pygments_lexer": "ipython3",
   "version": "3.6.8"
  }
 },
 "nbformat": 4,
 "nbformat_minor": 2
}
